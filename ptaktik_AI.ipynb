{
  "nbformat": 4,
  "nbformat_minor": 0,
  "metadata": {
    "colab": {
      "provenance": [],
      "authorship_tag": "ABX9TyPeuke68HhySBzO7q+ii3Us",
      "include_colab_link": true
    },
    "kernelspec": {
      "name": "python3",
      "display_name": "Python 3"
    },
    "language_info": {
      "name": "python"
    }
  },
  "cells": [
    {
      "cell_type": "markdown",
      "metadata": {
        "id": "view-in-github",
        "colab_type": "text"
      },
      "source": [
        "<a href=\"https://colab.research.google.com/github/nisanisa-22/MODUL-1/blob/main/ptaktik_AI.ipynb\" target=\"_parent\"><img src=\"https://colab.research.google.com/assets/colab-badge.svg\" alt=\"Open In Colab\"/></a>"
      ]
    },
    {
      "cell_type": "code",
      "execution_count": 1,
      "metadata": {
        "colab": {
          "base_uri": "https://localhost:8080/"
        },
        "id": "0nC9sbIyQlsq",
        "outputId": "46bf55d4-10ee-4d84-d26d-019887c70ab4"
      },
      "outputs": [
        {
          "output_type": "stream",
          "name": "stdout",
          "text": [
            "hello word\n"
          ]
        }
      ],
      "source": [
        "print(\"hello word\")"
      ]
    },
    {
      "cell_type": "code",
      "source": [
        "x = 10\n",
        "if x > 5:\n",
        " print(\"x lebih besar dari 5\")"
      ],
      "metadata": {
        "colab": {
          "base_uri": "https://localhost:8080/"
        },
        "id": "vVB32i_zRCJG",
        "outputId": "68ce02e0-0b3c-4095-a594-44cef5ac58ee"
      },
      "execution_count": 2,
      "outputs": [
        {
          "output_type": "stream",
          "name": "stdout",
          "text": [
            "x lebih besar dari 5\n"
          ]
        }
      ]
    },
    {
      "cell_type": "code",
      "source": [
        "x = 10\n",
        "if x > 15:\n",
        " print(\"x lebih besar dari 15\")\n",
        "elif x > 5:\n",
        " print(\"x lebih besar dari 5 tetapi kurang dari atau sama dengan 15\")\n",
        "else:\n",
        " print(\"x kurang dari atau sama dengan 5\")\n"
      ],
      "metadata": {
        "colab": {
          "base_uri": "https://localhost:8080/"
        },
        "id": "i-2_GtooRH-C",
        "outputId": "7d71e9d8-8b1a-4bfa-b920-02e24ff91814"
      },
      "execution_count": 3,
      "outputs": [
        {
          "output_type": "stream",
          "name": "stdout",
          "text": [
            "x lebih besar dari 5 tetapi kurang dari atau sama dengan 15\n"
          ]
        }
      ]
    },
    {
      "cell_type": "code",
      "source": [
        "x = 3\n",
        "if x > 15:\n",
        " print(\"x lebih besar dari 15\")\n",
        "elif x > 5:\n",
        " print(\"x lebih besar dari 5 tetapi kurang dari atau sama dengan 15\")\n",
        "else:\n",
        " print(\"x kurang dari atau sama dengan 5\")\n"
      ],
      "metadata": {
        "colab": {
          "base_uri": "https://localhost:8080/"
        },
        "id": "PMmPlkn7RUVK",
        "outputId": "e2c02f7e-3e57-49b9-ba97-ae6cea7491b9"
      },
      "execution_count": 4,
      "outputs": [
        {
          "output_type": "stream",
          "name": "stdout",
          "text": [
            "x kurang dari atau sama dengan 5\n"
          ]
        }
      ]
    },
    {
      "cell_type": "code",
      "source": [
        "nama = input(\"Masukkan nama Anda: \")\n",
        "print(\"Halo, \" + nama + \"!\")\n"
      ],
      "metadata": {
        "colab": {
          "base_uri": "https://localhost:8080/"
        },
        "id": "TjdFegiYRmgS",
        "outputId": "95ec2aa7-8afa-4ac4-d0ec-f6c497562ff9"
      },
      "execution_count": 6,
      "outputs": [
        {
          "output_type": "stream",
          "name": "stdout",
          "text": [
            "Masukkan nama Anda: anisa\n",
            "Halo, anisa!\n"
          ]
        }
      ]
    },
    {
      "cell_type": "code",
      "source": [
        "nama = \"Budi\"\n",
        "umur = 20\n",
        "print(\"Nama saya \" + nama + \" dan saya berumur \" + str(umur) + \"tahun.\")"
      ],
      "metadata": {
        "colab": {
          "base_uri": "https://localhost:8080/"
        },
        "id": "thiqMT7BRt-_",
        "outputId": "f4a76584-c860-494c-844c-adc1b0b841bb"
      },
      "execution_count": 8,
      "outputs": [
        {
          "output_type": "stream",
          "name": "stdout",
          "text": [
            "Nama saya Budi dan saya berumur 20tahun.\n"
          ]
        }
      ]
    },
    {
      "cell_type": "code",
      "source": [
        "umur = int(input(\"Masukkan umur Anda: \"))\n",
        "tinggi = float(input(\"Masukkan tinggi Anda dalam meter: \"))\n",
        "print(\"Anda berumur \" + str(umur) + \" tahun dan tinggi Anda \" + str(tinggi)\n",
        "+ \" meter.\")"
      ],
      "metadata": {
        "colab": {
          "base_uri": "https://localhost:8080/"
        },
        "id": "u3fXUqV1R7S0",
        "outputId": "8ef3b0d1-26aa-440e-dc3e-edef5d807a10"
      },
      "execution_count": 10,
      "outputs": [
        {
          "output_type": "stream",
          "name": "stdout",
          "text": [
            "Masukkan umur Anda: 20\n",
            "Masukkan tinggi Anda dalam meter: 158\n",
            "Anda berumur 20 tahun dan tinggi Anda 158.0 meter.\n"
          ]
        }
      ]
    },
    {
      "cell_type": "code",
      "source": [
        "nama_depan = \"Alice\"\n",
        "nama_belakang = \"Smith\"\n",
        "# Penggabungan string\n",
        "nama_lengkap = nama_depan + \" \" + nama_belakang # \"Alice Smith\"\n",
        "# Pengulangan string\n",
        "ulang = nama_depan * 3 # \"AliceAliceAlice\"\n",
        "# Mengambil karakter\n",
        "karakter_pertama = nama_depan[0] # \"A\"\n",
        "karakter_terakhir = nama_depan[-1] # \"e\"\n",
        "# Panjang string\n",
        "panjang = len(nama_depan) # 5"
      ],
      "metadata": {
        "id": "dKDbHjleSx9A"
      },
      "execution_count": 17,
      "outputs": []
    }
  ]
}